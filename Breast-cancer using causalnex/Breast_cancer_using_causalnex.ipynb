{
  "nbformat": 4,
  "nbformat_minor": 0,
  "metadata": {
    "colab": {
      "name": "Breast_cancer_using_causalnex.ipynb",
      "private_outputs": true,
      "provenance": [],
      "collapsed_sections": [],
      "toc_visible": true
    },
    "kernelspec": {
      "name": "python3",
      "display_name": "Python 3"
    },
    "language_info": {
      "name": "python"
    },
    "accelerator": "GPU"
  },
  "cells": [
    {
      "cell_type": "markdown",
      "metadata": {
        "id": "FbX7LXgXyYdM"
      },
      "source": [
        "# Install causalnex, pydotplus and required libraries"
      ]
    },
    {
      "cell_type": "code",
      "metadata": {
        "id": "7_dtfGPl7gon"
      },
      "source": [
        "!pip install causalnex\n"
      ],
      "execution_count": null,
      "outputs": []
    },
    {
      "cell_type": "code",
      "metadata": {
        "id": "x6Y5U11hCE-Y"
      },
      "source": [
        "pip install \"causalnex[all]\""
      ],
      "execution_count": null,
      "outputs": []
    },
    {
      "cell_type": "code",
      "metadata": {
        "id": "ZEGw-3E1kv7N"
      },
      "source": [
        "!pip install pydotplus"
      ],
      "execution_count": null,
      "outputs": []
    },
    {
      "cell_type": "code",
      "metadata": {
        "id": "VaQJmJXzpaQB"
      },
      "source": [
        "!pip install -q pydot"
      ],
      "execution_count": null,
      "outputs": []
    },
    {
      "cell_type": "code",
      "metadata": {
        "id": "p0t51aaNtXOD"
      },
      "source": [
        "!apt install libgraphviz-dev\n",
        "!pip install pygraphviz"
      ],
      "execution_count": null,
      "outputs": []
    },
    {
      "cell_type": "code",
      "metadata": {
        "id": "MVyF2FRhBmMN"
      },
      "source": [
        "!pip install pygraphviz"
      ],
      "execution_count": null,
      "outputs": []
    },
    {
      "cell_type": "code",
      "metadata": {
        "id": "EgqwhEnlCgjb"
      },
      "source": [
        "#sudo apt-get install python-pip python-virtualenv"
      ],
      "execution_count": null,
      "outputs": []
    },
    {
      "cell_type": "code",
      "metadata": {
        "id": "GQKtEAswtPDu"
      },
      "source": [
        "#!pip install graphviz !apt-get install graphviz\n"
      ],
      "execution_count": null,
      "outputs": []
    },
    {
      "cell_type": "code",
      "metadata": {
        "id": "5ir2KrcqT76K"
      },
      "source": [
        ""
      ],
      "execution_count": null,
      "outputs": []
    },
    {
      "cell_type": "code",
      "metadata": {
        "id": "nVOzNGf_TmPk"
      },
      "source": [
        ""
      ],
      "execution_count": null,
      "outputs": []
    },
    {
      "cell_type": "markdown",
      "metadata": {
        "id": "6EysDkHMyi5U"
      },
      "source": [
        "# Import data"
      ]
    },
    {
      "cell_type": "code",
      "metadata": {
        "id": "QWdIT8JX7m7D"
      },
      "source": [
        "import pandas as pd"
      ],
      "execution_count": null,
      "outputs": []
    },
    {
      "cell_type": "code",
      "metadata": {
        "id": "BpaLu8WF76Wl"
      },
      "source": [
        "data=pd.read_csv('breast-cancer_csv (1).csv')\n",
        "data.head()"
      ],
      "execution_count": null,
      "outputs": []
    },
    {
      "cell_type": "code",
      "metadata": {
        "id": "7VTjqjaYoLyB"
      },
      "source": [
        "data.rename(columns={'tumor-size' : 'tumor_size','inv-nodes':'inv_nodes','node-caps':'node_caps','deg-malig':'deg_malig','breast-quad':'breast_quad'},inplace=True)"
      ],
      "execution_count": null,
      "outputs": []
    },
    {
      "cell_type": "code",
      "metadata": {
        "id": "rquCisNmSDsf"
      },
      "source": [
        "data.head()"
      ],
      "execution_count": null,
      "outputs": []
    },
    {
      "cell_type": "code",
      "metadata": {
        "id": "VQcF5LURoawA"
      },
      "source": [
        "data.dropna(inplace=True)"
      ],
      "execution_count": null,
      "outputs": []
    },
    {
      "cell_type": "code",
      "metadata": {
        "id": "C9zPfY5mohqe"
      },
      "source": [
        "data.isna().sum()"
      ],
      "execution_count": null,
      "outputs": []
    },
    {
      "cell_type": "code",
      "metadata": {
        "id": "6dzWR2SDoGlP"
      },
      "source": [
        "data.Class.replace({'recurrence-events':1,'no-recurrence-events':0},inplace=True)"
      ],
      "execution_count": null,
      "outputs": []
    },
    {
      "cell_type": "code",
      "metadata": {
        "id": "mlyHg1N7ortU"
      },
      "source": [
        "data.irradiat.replace({'no':0,'yes':1},inplace=True)"
      ],
      "execution_count": null,
      "outputs": []
    },
    {
      "cell_type": "code",
      "metadata": {
        "id": "_tYzOadDqO-p"
      },
      "source": [
        "data['node_caps'].replace({'no':0,'yes':1},inplace=True)"
      ],
      "execution_count": null,
      "outputs": []
    },
    {
      "cell_type": "code",
      "metadata": {
        "id": "7jEigqn4L5H0"
      },
      "source": [
        "data['breast'].replace({'right':0,'left':1},inplace=True)"
      ],
      "execution_count": null,
      "outputs": []
    },
    {
      "cell_type": "code",
      "metadata": {
        "id": "PFzmcWc3Mtv3"
      },
      "source": [
        "data['menopause'].replace({'premeno':0,'ge40':1,'lt40':2},inplace=True)"
      ],
      "execution_count": null,
      "outputs": []
    },
    {
      "cell_type": "code",
      "metadata": {
        "id": "0wmMo3LJMR19"
      },
      "source": [
        "data['breast_quad'].replace({'left_low':0,'left_up':1,'central':2,'right_low':3,'right_up':4},inplace=True)"
      ],
      "execution_count": null,
      "outputs": []
    },
    {
      "cell_type": "code",
      "metadata": {
        "id": "Vmkqiul4L_f4"
      },
      "source": [
        "data['menopause'].unique()"
      ],
      "execution_count": null,
      "outputs": []
    },
    {
      "cell_type": "code",
      "metadata": {
        "id": "BLabx_xjiorP"
      },
      "source": [
        "data.head()"
      ],
      "execution_count": null,
      "outputs": []
    },
    {
      "cell_type": "code",
      "metadata": {
        "id": "UV9w2ibLq_R0"
      },
      "source": [
        "data['age'].unique()"
      ],
      "execution_count": null,
      "outputs": []
    },
    {
      "cell_type": "code",
      "metadata": {
        "id": "5he8nyEWtMz2"
      },
      "source": [
        "data['age'].replace({'20-29':0,'30-39':1,'40-49':1,'50-59':2,'60-69':2,'70-79':3},inplace=True)"
      ],
      "execution_count": null,
      "outputs": []
    },
    {
      "cell_type": "code",
      "metadata": {
        "id": "tpNpjvpVsusg"
      },
      "source": [
        "data['inv_nodes'].replace({'0-2':0,'3-5':1,'6-8':2,'9-11':3,'12-14':4,'15-17':5,'24-26':6},inplace=True)"
      ],
      "execution_count": null,
      "outputs": []
    },
    {
      "cell_type": "code",
      "metadata": {
        "id": "NCKuAAY1rUdA"
      },
      "source": [
        "data['tumor_size'].replace({'0-4':0,'5-9':0,'10-14':1,'15-19':1,'20-24':2,'25-29':2,'30-34':3,'35-39':3,'40-44':4,'45-49':4,'50-54':5},inplace=True)"
      ],
      "execution_count": null,
      "outputs": []
    },
    {
      "cell_type": "code",
      "metadata": {
        "id": "caQwCDwkoTec"
      },
      "source": [
        "data['breast_quad'].unique()"
      ],
      "execution_count": null,
      "outputs": []
    },
    {
      "cell_type": "code",
      "metadata": {
        "id": "qr2G_cxZMMAV"
      },
      "source": [
        "data.tumor_size.unique()\n"
      ],
      "execution_count": null,
      "outputs": []
    },
    {
      "cell_type": "code",
      "metadata": {
        "id": "Ep7fOQrTE7wq"
      },
      "source": [
        "data.menopause.unique()"
      ],
      "execution_count": null,
      "outputs": []
    },
    {
      "cell_type": "code",
      "metadata": {
        "id": "e-IrEEq7Qc7i"
      },
      "source": [
        ""
      ],
      "execution_count": null,
      "outputs": []
    },
    {
      "cell_type": "code",
      "metadata": {
        "id": "CkipEKL3QdtJ"
      },
      "source": [
        "data.info()"
      ],
      "execution_count": null,
      "outputs": []
    },
    {
      "cell_type": "code",
      "metadata": {
        "id": "_imZSlMOQc-y"
      },
      "source": [
        ""
      ],
      "execution_count": null,
      "outputs": []
    },
    {
      "cell_type": "code",
      "metadata": {
        "id": "C5ArmVeDE7bf"
      },
      "source": [
        "data.head()"
      ],
      "execution_count": null,
      "outputs": []
    },
    {
      "cell_type": "markdown",
      "metadata": {
        "id": "m_EBpGsYyuCH"
      },
      "source": [
        "# Applying the NOTEARS algorithm to learn the structure."
      ]
    },
    {
      "cell_type": "code",
      "metadata": {
        "id": "wUAUZgfk8MYJ"
      },
      "source": [
        "\n",
        "# silence warnings\n",
        "import warnings\n",
        "warnings.filterwarnings(\"ignore\")\n",
        "\n",
        "\n",
        "from causalnex.structure.notears import from_pandas\n",
        "sm = from_pandas(data)"
      ],
      "execution_count": null,
      "outputs": []
    },
    {
      "cell_type": "markdown",
      "metadata": {
        "id": "bEkc4xTZy2f3"
      },
      "source": [
        "#### visualise the learned StructureModel using the plot function."
      ]
    },
    {
      "cell_type": "code",
      "metadata": {
        "id": "X2jZBR0e8WqL"
      },
      "source": [
        "from IPython.display import Image\n",
        "from causalnex.plots import plot_structure, NODE_STYLE, EDGE_STYLE\n",
        "\n",
        "viz = plot_structure(\n",
        "    sm,\n",
        "    graph_attributes={\"scale\": \"0.5\"},\n",
        "    all_node_attributes=NODE_STYLE.WEAK,\n",
        "    all_edge_attributes=EDGE_STYLE.WEAK)\n",
        "Image(viz.draw(format='png'))"
      ],
      "execution_count": null,
      "outputs": []
    },
    {
      "cell_type": "markdown",
      "metadata": {
        "id": "LnB2MULHzUdr"
      },
      "source": [
        "####The reason why we have a fully connected graph here is we haven’t applied thresholding to the weaker edges. Thresholding can be applied either by specifying the value for the parameter w_threshold in from_pandas, or we can remove the edges by calling the structure model function, remove_edges_below_threshold."
      ]
    },
    {
      "cell_type": "code",
      "metadata": {
        "id": "CJmSmXZz8bEd"
      },
      "source": [
        "sm.remove_edges_below_threshold(0.3)\n",
        "viz = plot_structure(\n",
        "    sm,\n",
        "    graph_attributes={\"scale\": \"0.5\"},\n",
        "    all_node_attributes=NODE_STYLE.WEAK,\n",
        "    all_edge_attributes=EDGE_STYLE.WEAK)\n",
        "Image(viz.draw(format='png'))"
      ],
      "execution_count": null,
      "outputs": []
    },
    {
      "cell_type": "code",
      "metadata": {
        "id": "l1DK7nE-cNaK"
      },
      "source": [
        ""
      ],
      "execution_count": null,
      "outputs": []
    },
    {
      "cell_type": "markdown",
      "metadata": {
        "id": "cLu6vi7mcRH8"
      },
      "source": [
        "# Modifying the Structure\n",
        "To correct erroneous relationships, we can incorporate domain knowledge into the model after structure learning. We can modify the structure model through adding and deleting the edges. For example, we can add and remove edges as:"
      ]
    },
    {
      "cell_type": "code",
      "metadata": {
        "id": "2QfQU72YcNdm"
      },
      "source": [
        "# sm.add_edge(\"breast-quad\", \"Class\")\n",
        "# sm.add_edge('menopause','Class')"
      ],
      "execution_count": null,
      "outputs": []
    },
    {
      "cell_type": "code",
      "metadata": {
        "id": "g6ViQq5ZyWge"
      },
      "source": [
        "viz = plot_structure(\n",
        "    sm,\n",
        "    graph_attributes={\"scale\": \"0.5\"},\n",
        "    all_node_attributes=NODE_STYLE.WEAK,\n",
        "    all_edge_attributes=EDGE_STYLE.WEAK)\n",
        "Image(viz.draw(format='png'))"
      ],
      "execution_count": null,
      "outputs": []
    },
    {
      "cell_type": "markdown",
      "metadata": {
        "id": "q6R0vTcDh9Js"
      },
      "source": [
        "#### We can now visualise our updated structure to confirm it looks reasonable."
      ]
    },
    {
      "cell_type": "code",
      "metadata": {
        "id": "fmWgHVyqh1R-"
      },
      "source": [
        "viz = plot_structure(\n",
        "    sm,\n",
        "    graph_attributes={\"scale\": \"0.5\"},\n",
        "    all_node_attributes=NODE_STYLE.WEAK,\n",
        "    all_edge_attributes=EDGE_STYLE.WEAK)\n",
        "Image(viz.draw(format='png'))"
      ],
      "execution_count": null,
      "outputs": []
    },
    {
      "cell_type": "markdown",
      "metadata": {
        "id": "LqJL7UIVh6LM"
      },
      "source": [
        "#### We can see there are two separate subgraphs here in the visualisation plot: Dalc->Walc and the other big subgraph. We can retrieve the largest subgraph easily by calling the StructureModel function get_largest_subgraph()."
      ]
    },
    {
      "cell_type": "code",
      "metadata": {
        "id": "Jw_fh4-Ch1Vb"
      },
      "source": [
        "sm = sm.get_largest_subgraph()\n",
        "\n",
        "viz = plot_structure(\n",
        "    sm,\n",
        "    graph_attributes={\"scale\": \"0.5\"},\n",
        "    all_node_attributes=NODE_STYLE.WEAK,\n",
        "    all_edge_attributes=EDGE_STYLE.WEAK)\n",
        "Image(viz.draw(format='png'))"
      ],
      "execution_count": null,
      "outputs": []
    },
    {
      "cell_type": "code",
      "metadata": {
        "id": "dGHM8ZB1h1as"
      },
      "source": [
        ""
      ],
      "execution_count": null,
      "outputs": []
    },
    {
      "cell_type": "markdown",
      "metadata": {
        "id": "uBbpVqikiIb-"
      },
      "source": [
        "## After deciding on how the final structure model should look, we can instantiate a BayesianNetwork."
      ]
    },
    {
      "cell_type": "code",
      "metadata": {
        "id": "Nwl5RRbdu01X"
      },
      "source": [
        "from causalnex.network import BayesianNetwork\n",
        "\n",
        "bn = BayesianNetwork(sm)"
      ],
      "execution_count": null,
      "outputs": []
    },
    {
      "cell_type": "code",
      "metadata": {
        "id": "pqJRJkRpyDna"
      },
      "source": [
        ""
      ],
      "execution_count": null,
      "outputs": []
    },
    {
      "cell_type": "markdown",
      "metadata": {
        "id": "HMzCEqC4U-Xp"
      },
      "source": [
        "##### We are now ready to move on to learning the conditional probability distribution of different features in the BayesianNetwork."
      ]
    },
    {
      "cell_type": "code",
      "metadata": {
        "id": "bNm3UET6jNN3"
      },
      "source": [
        ""
      ],
      "execution_count": null,
      "outputs": []
    },
    {
      "cell_type": "code",
      "metadata": {
        "id": "ozcTo628XA0D"
      },
      "source": [
        ""
      ],
      "execution_count": null,
      "outputs": []
    },
    {
      "cell_type": "markdown",
      "metadata": {
        "id": "5QNdpQ9CXFsO"
      },
      "source": [
        "# Fitting the Conditional Distribution of the Bayesian Network\n",
        "### Preparing the Discretised Data\n",
        "Bayesian Networks in CausalNex support only discrete distributions. Any continuous features, or features with a large number of categories, should be discretised prior to fitting the Bayesian Network. Models containing variables with many possible values will typically be badly fit, and exhibit poor performance.\n",
        "\n",
        "For example, consider P(G2 | G1), where G1 and G2 have possible values 0 to 20. The discrete conditional probability distribution is therefore specified using 21x21 (441) possible combinations - most of which we will be unlikely to observe.\n",
        "\n",
        "CausalNex provides a few helper methods to make discretisation easier. Let’s start by reducing the number of categories in some of the categorical features by combining similar values. We will make numeric features categorical by discretisation, and then give the buckets meaningful labels.\n",
        "\n",
        "# Cardinality of Categorical Features"
      ]
    },
    {
      "cell_type": "code",
      "metadata": {
        "id": "tMeOYcLiXA2l"
      },
      "source": [
        "data.head()"
      ],
      "execution_count": null,
      "outputs": []
    },
    {
      "cell_type": "code",
      "metadata": {
        "id": "JKnz8ObeXA5X"
      },
      "source": [
        "data.irradiat.replace({0:'no',1:'yes'},inplace=True)"
      ],
      "execution_count": null,
      "outputs": []
    },
    {
      "cell_type": "code",
      "metadata": {
        "id": "uLr_0MdBXA8L"
      },
      "source": [
        "data['node_caps'].replace({0:'no',1:'yes'},inplace=True)"
      ],
      "execution_count": null,
      "outputs": []
    },
    {
      "cell_type": "code",
      "metadata": {
        "id": "4gVt5EYpXA-1"
      },
      "source": [
        "data.head()"
      ],
      "execution_count": null,
      "outputs": []
    },
    {
      "cell_type": "code",
      "metadata": {
        "id": "oDS8oWGeXBCO"
      },
      "source": [
        ""
      ],
      "execution_count": null,
      "outputs": []
    },
    {
      "cell_type": "code",
      "metadata": {
        "id": "JFDmMMjIYR6B"
      },
      "source": [
        "Class_map = {0: \"healthy\", 1: \"breast cancer\"}\n",
        "\n",
        "data[\"Class\"] = data[\"Class\"].map(Class_map)\n",
        "data.head()"
      ],
      "execution_count": null,
      "outputs": []
    },
    {
      "cell_type": "code",
      "metadata": {
        "id": "mmomh0trYR8V"
      },
      "source": [
        ""
      ],
      "execution_count": null,
      "outputs": []
    },
    {
      "cell_type": "code",
      "metadata": {
        "id": "lYPG9-jgYSAL"
      },
      "source": [
        ""
      ],
      "execution_count": null,
      "outputs": []
    },
    {
      "cell_type": "markdown",
      "metadata": {
        "id": "ugDkHCRxjPZP"
      },
      "source": [
        "## Train-Test split"
      ]
    },
    {
      "cell_type": "code",
      "metadata": {
        "id": "W75HxLj5jNUU"
      },
      "source": [
        "from sklearn.model_selection import train_test_split\n",
        "\n",
        "train, test = train_test_split(data, train_size=0.9, test_size=0.1, random_state=7)"
      ],
      "execution_count": null,
      "outputs": []
    },
    {
      "cell_type": "code",
      "metadata": {
        "id": "tkZuQEd9Y4MI"
      },
      "source": [
        ""
      ],
      "execution_count": null,
      "outputs": []
    },
    {
      "cell_type": "markdown",
      "metadata": {
        "id": "LUMWRW7HY4k_"
      },
      "source": [
        "# Model Probability\n",
        "With the learnt structure model from earlier and the discretised data, we can now fit the probability distrbution of the Bayesian Network. The first step in this is specifying all of the states that each node can take. This can be done either from data, or providing a dictionary of node values. We use the full dataset here to avoid cases where states in our test set do not exist in the training set. For real-world applications, these states may need to be provided using the dictionary method."
      ]
    },
    {
      "cell_type": "code",
      "metadata": {
        "id": "3_lDE86LY-r2"
      },
      "source": [
        "bn = bn.fit_node_states(data)"
      ],
      "execution_count": null,
      "outputs": []
    },
    {
      "cell_type": "code",
      "metadata": {
        "id": "FB7vMgcWZBwL"
      },
      "source": [
        ""
      ],
      "execution_count": null,
      "outputs": []
    },
    {
      "cell_type": "markdown",
      "metadata": {
        "id": "Evhy0pXLZEh7"
      },
      "source": [
        "# Fit Conditional Probability Distributions\n",
        "The fit_cpds method of BayesianNetwork accepts a dataset to learn the conditional probablilty distributions (CPDs) of each node, along with a method of how to do this fit."
      ]
    },
    {
      "cell_type": "code",
      "metadata": {
        "id": "BN1W0HWvjOWP"
      },
      "source": [
        "bn = bn.fit_cpds(train, method=\"BayesianEstimator\", bayes_prior=\"K2\")\n"
      ],
      "execution_count": null,
      "outputs": []
    },
    {
      "cell_type": "markdown",
      "metadata": {
        "id": "5ueEGXa_ZKzB"
      },
      "source": [
        "#### once we have the CPDs, we can inspect them through the cpds property, which is a dictionary of node->cpd."
      ]
    },
    {
      "cell_type": "code",
      "metadata": {
        "id": "lrPIMyvojUbH"
      },
      "source": [
        "bn.cpds[\"Class\"]"
      ],
      "execution_count": null,
      "outputs": []
    },
    {
      "cell_type": "code",
      "metadata": {
        "id": "BTWYgFbpZWUq"
      },
      "source": [
        ""
      ],
      "execution_count": null,
      "outputs": []
    },
    {
      "cell_type": "markdown",
      "metadata": {
        "id": "CtnIpyaSZTuK"
      },
      "source": [
        "#### The CPD dictionaries are multi-indexed, and so the loc function can be a useful way to interact with them:"
      ]
    },
    {
      "cell_type": "code",
      "metadata": {
        "id": "AB6GsTTBZS-A"
      },
      "source": [
        ""
      ],
      "execution_count": null,
      "outputs": []
    },
    {
      "cell_type": "markdown",
      "metadata": {
        "id": "kPi43ojdZZT9"
      },
      "source": [
        "# Predict the State given the Input Data\n",
        "The predict method of BayesianNetwork allows us to make predictions based on the data using the learnt Bayesian Network."
      ]
    },
    {
      "cell_type": "code",
      "metadata": {
        "id": "Qe0I21dyZZzG"
      },
      "source": [
        "data.loc[16, data.columns != 'Class']"
      ],
      "execution_count": null,
      "outputs": []
    },
    {
      "cell_type": "code",
      "metadata": {
        "id": "fZ9aYhcSZh8_"
      },
      "source": [
        "predictions = bn.predict(data, \"Class\")"
      ],
      "execution_count": null,
      "outputs": []
    },
    {
      "cell_type": "code",
      "metadata": {
        "id": "MOq6TNeoZxjU"
      },
      "source": [
        "print('The prediction is \\'{prediction}\\''.format(prediction=predictions.loc[18, 'Class_prediction']))"
      ],
      "execution_count": null,
      "outputs": []
    },
    {
      "cell_type": "code",
      "metadata": {
        "id": "1SV3jzgwZ2jU"
      },
      "source": [
        ""
      ],
      "execution_count": null,
      "outputs": []
    },
    {
      "cell_type": "markdown",
      "metadata": {
        "id": "GfkkTu40Z7BB"
      },
      "source": [
        "#### The prediction by the Bayesian Network turns out to be a Fail. Let’s compare this to the ground truth:"
      ]
    },
    {
      "cell_type": "code",
      "metadata": {
        "id": "XwIbPYzXZ7u-"
      },
      "source": [
        "print('The ground truth is \\'{truth}\\''.format(truth=data.loc[18, 'Class']))"
      ],
      "execution_count": null,
      "outputs": []
    },
    {
      "cell_type": "markdown",
      "metadata": {
        "id": "mDzkY-J2aD4x"
      },
      "source": [
        "##### which turns out to be the same."
      ]
    },
    {
      "cell_type": "code",
      "metadata": {
        "id": "uM7cnUpVaBNE"
      },
      "source": [
        ""
      ],
      "execution_count": null,
      "outputs": []
    },
    {
      "cell_type": "markdown",
      "metadata": {
        "id": "KSkcJUr9aGk-"
      },
      "source": [
        "# Model Quality\n",
        "To evaluate the quality of the model that has been learned, CausalNex supports two main approaches: Classification Report and Reciever Operating Characteristics (ROC) / Area Under the ROC Curve (AUC). In this section each will be discussed.\n",
        "\n",
        "# Classification Report\n",
        "To obtain a classification report using a BN, we need to provide a test set, and the node we are trying to classify. The report will predict the target node for all rows in the test set, and evaluate how well those predictions are made."
      ]
    },
    {
      "cell_type": "code",
      "metadata": {
        "id": "Uq_d4KO5aIMZ"
      },
      "source": [
        "from causalnex.evaluation import classification_report\n",
        "classification_report(bn, test, \"Class\")"
      ],
      "execution_count": null,
      "outputs": []
    },
    {
      "cell_type": "code",
      "metadata": {
        "id": "ETFo-3GbaLgE"
      },
      "source": [
        ""
      ],
      "execution_count": null,
      "outputs": []
    },
    {
      "cell_type": "markdown",
      "metadata": {
        "id": "Py3Dq_nQaSag"
      },
      "source": [
        "#### This report shows that the model we have defined is able to classify whether a person having breast cancer or not.\n"
      ]
    },
    {
      "cell_type": "code",
      "metadata": {
        "id": "2bKghSoUaapA"
      },
      "source": [
        ""
      ],
      "execution_count": null,
      "outputs": []
    },
    {
      "cell_type": "markdown",
      "metadata": {
        "id": "yLpTX5pEac9a"
      },
      "source": [
        "# ROC / AUC\n",
        "Reciever Operating Characteristics (ROC), and the Area Under the ROC Curve (AUC) can be obtained using the roc_auc method within the CausalNex metrics module. Again, a test set and target node must be provided. The ROC curve is computed by micro-averaging predictions made across all states (classes) of the target node."
      ]
    },
    {
      "cell_type": "code",
      "metadata": {
        "id": "OVwn8SuGad2D"
      },
      "source": [
        "from causalnex.evaluation import roc_auc\n",
        "roc, auc = roc_auc(bn, test, \"Class\")\n",
        "print(auc)"
      ],
      "execution_count": null,
      "outputs": []
    },
    {
      "cell_type": "markdown",
      "metadata": {
        "id": "autbEXaOakqI"
      },
      "source": [
        "#### The AUC value for our model is good enough, giving us confidence in the performance."
      ]
    },
    {
      "cell_type": "code",
      "metadata": {
        "id": "NTSKd0XUaoBe"
      },
      "source": [
        ""
      ],
      "execution_count": null,
      "outputs": []
    },
    {
      "cell_type": "markdown",
      "metadata": {
        "id": "GFFWxlboaqmI"
      },
      "source": [
        "# Querying Marginals\n",
        "After iterating over our model structure, CPDs, and validating our model quality, we can query our model under defferent observation to gain insights.\n",
        "\n",
        "# Baseline Marginals\n",
        "To query the model for baseline marginals that reflect the population as a whole, a query method can be used. First let’s update our model using the complete dataset, since the one we currently have was only built from training data."
      ]
    },
    {
      "cell_type": "code",
      "metadata": {
        "id": "N7yfWCc4aula"
      },
      "source": [
        "bn = bn.fit_cpds(train, method=\"BayesianEstimator\", bayes_prior=\"K2\")"
      ],
      "execution_count": null,
      "outputs": []
    },
    {
      "cell_type": "code",
      "metadata": {
        "id": "elEk2PdBa2Bo"
      },
      "source": [
        ""
      ],
      "execution_count": null,
      "outputs": []
    },
    {
      "cell_type": "markdown",
      "metadata": {
        "id": "9VK1NdybScsZ"
      },
      "source": [
        "#### For inference, we must create a new InferenceEngine from our BayesianNetwork, which lets us query the model. The query method will compute the marginal likelihood of all states for all nodes."
      ]
    },
    {
      "cell_type": "code",
      "metadata": {
        "id": "FNc4Rfwma_HY"
      },
      "source": [
        "from causalnex.inference import InferenceEngine\n",
        "\n",
        "ie = InferenceEngine(bn)\n",
        "marginals = ie.query()\n",
        "marginals[\"Class\"]"
      ],
      "execution_count": null,
      "outputs": []
    },
    {
      "cell_type": "code",
      "metadata": {
        "id": "Ju3EDqTzlqZu"
      },
      "source": [
        ""
      ],
      "execution_count": null,
      "outputs": []
    },
    {
      "cell_type": "markdown",
      "metadata": {
        "id": "A_iAHP-VSirp"
      },
      "source": [
        "#### The output observed tells us that P(Class=Healthy) = 0.704, and the P(Class=Breast cancer) = 0.2959. As a quick sanity check, we can compute what proportion of our dataset are healthy, which should be approximately the same.\n",
        "\n"
      ]
    },
    {
      "cell_type": "code",
      "metadata": {
        "id": "C79y98a5SjAV"
      },
      "source": [
        "import numpy as np\n",
        "labels, counts = np.unique(train[\"Class\"], return_counts=True)\n",
        "list(zip(labels, counts))"
      ],
      "execution_count": null,
      "outputs": []
    },
    {
      "cell_type": "markdown",
      "metadata": {
        "id": "KgD9FiRgS_au"
      },
      "source": [
        "#### The proportion of the students who has breast cancer is 73 / (73+176) = 0.293 - which is close to our computed marginal likelihood."
      ]
    },
    {
      "cell_type": "markdown",
      "metadata": {
        "id": "FcON4S_pTPZd"
      },
      "source": [
        "## Marginals after Observations\n",
        "We can also query the marginal likelihood of states in our network given some obse"
      ]
    },
    {
      "cell_type": "code",
      "metadata": {
        "id": "SFaDaRGuTRTg"
      },
      "source": [
        "marginals_no = ie.query({\"node_caps\": \"no\"})\n",
        "marginals_yes = ie.query({\"node_caps\": \"yes\"})\n",
        "print(\"Marginal Class | No\", marginals_no[\"Class\"])\n",
        "print(\"Marginal Class | Yes\", marginals_yes[\"Class\"])"
      ],
      "execution_count": null,
      "outputs": []
    },
    {
      "cell_type": "code",
      "metadata": {
        "id": "CPirTII5UU0z"
      },
      "source": [
        ""
      ],
      "execution_count": null,
      "outputs": []
    },
    {
      "cell_type": "markdown",
      "metadata": {
        "id": "ibBEFwl_U03Q"
      },
      "source": [
        "## Do Calculus\n",
        "CausalNex also supports simple Do-Calculus, allowing us to specify interventions. In this section we will take a look at the supported methods, and what they mean.\n",
        "\n",
        "### Updating a Node Distribution\n",
        "We can apply an intervention to any node in our data, updating its distribution using a do operator. This can be thought of as asking our model “What if” something were different. For example, we could ask what would happen if 100% of students wanted to go on to do higher education."
      ]
    },
    {
      "cell_type": "code",
      "metadata": {
        "id": "ucB-VnyhU3YP"
      },
      "source": [
        "print(\"distribution before do\", ie.query()[\"irradiat\"])\n",
        "ie.do_intervention(\"irradiat\",\n",
        "                   {'yes': 0.0,\n",
        "                    'no': 1.0})\n",
        "print(\"distribution after do\", ie.query()[\"irradiat\"])"
      ],
      "execution_count": null,
      "outputs": []
    },
    {
      "cell_type": "code",
      "metadata": {
        "id": "rjwaCsTwU_pp"
      },
      "source": [
        ""
      ],
      "execution_count": null,
      "outputs": []
    },
    {
      "cell_type": "markdown",
      "metadata": {
        "id": "dVopgcIqV6dd"
      },
      "source": [
        "#### Resetting a Node Distribution\n",
        "We can reset any interventions that we make by using the reset_intervention method, and providing the node that we want to reset.\n"
      ]
    },
    {
      "cell_type": "code",
      "metadata": {
        "id": "4du_rZErV7ut"
      },
      "source": [
        "ie.reset_do(\"irradiat\")\n"
      ],
      "execution_count": null,
      "outputs": []
    },
    {
      "cell_type": "code",
      "metadata": {
        "id": "_C4bBsggV-wu"
      },
      "source": [
        ""
      ],
      "execution_count": null,
      "outputs": []
    },
    {
      "cell_type": "markdown",
      "metadata": {
        "id": "kzrs9xEMV_3M"
      },
      "source": [
        "## Effect of Do on Marginals\n",
        "\n",
        "We can again use query to examine the effect that an intervention has on our marginal likelihoods."
      ]
    },
    {
      "cell_type": "code",
      "metadata": {
        "id": "F71g9ZysWHVb"
      },
      "source": [
        "print(\"marginal Class\", ie.query()[\"Class\"])\n",
        "ie.do_intervention(\"irradiat\",\n",
        "                   {'no': 1.0,\n",
        "                    'yes': 0.0})\n",
        "print(\"updated marginal Class\", ie.query()[\"Class\"])"
      ],
      "execution_count": null,
      "outputs": []
    },
    {
      "cell_type": "code",
      "metadata": {
        "id": "KPBDTiIhWO5L"
      },
      "source": [
        ""
      ],
      "execution_count": null,
      "outputs": []
    },
    {
      "cell_type": "markdown",
      "metadata": {
        "id": "qzfNDvb3W90V"
      },
      "source": [
        "#### In this case, we can see that if 100% of people have no irradiat, then we estimate that healthy rate would increase from 70.3% to 76.12%."
      ]
    },
    {
      "cell_type": "code",
      "metadata": {
        "id": "fd_nHpoIXL7K"
      },
      "source": [
        ""
      ],
      "execution_count": null,
      "outputs": []
    }
  ]
}